{
 "cells": [
  {
   "cell_type": "markdown",
   "metadata": {},
   "source": "# チュートリアルの始め方\n\nこのチュートリアルを始める前に、まずこのnotebookを実行する必要があります。これにより、ワークショップの全てのnotebookで使用する必要なライブラリと環境変数が保存されます。",
   "outputs": []
  },
  {
   "cell_type": "markdown",
   "metadata": {},
   "source": "## 始め方\n\n1. このリポジトリをお使いのローカルマシンにクローンしてください。\n\n2. 以下のコマンドを実行して、必要な依存関係をインストールしてください：\n ",
   "outputs": []
  },
  {
   "cell_type": "markdown",
   "metadata": {},
   "source": "> ⚠️ **pipの依存関係解決に関するエラーメッセージは無視してください。**",
   "outputs": []
  },
  {
   "cell_type": "code",
   "execution_count": null,
   "metadata": {},
   "outputs": [],
   "source": [
    "%pip install -qU pip\n",
    "%pip install -qr ../requirements.txt"
   ]
  },
  {
   "cell_type": "markdown",
   "metadata": {},
   "source": "3. 依存関係のインストール後にカーネルを再起動してください",
   "outputs": []
  },
  {
   "cell_type": "code",
   "execution_count": null,
   "metadata": {},
   "outputs": [],
   "source": [
    "# restart kernel\n",
    "from IPython.core.display import HTML\n",
    "HTML(\"<script>Jupyter.notebook.kernel.restart()</script>\")"
   ]
  },
  {
   "cell_type": "markdown",
   "metadata": {},
   "source": "4. 提供されている指示に従って、notebookのセルを順番に実行してください。",
   "outputs": []
  },
  {
   "cell_type": "markdown",
   "metadata": {},
   "source": "---\n\n## 使用上の注意とヒント 💡\n\n- このコースでは、温度設定（temperature）を0にしたClaude 3 Haikuを使用します。温度についてはコースの後半で詳しく説明しますが、今は、この設定によってより確定的な結果が得られることを理解していれば十分です。このコースのプロンプトエンジニアリング技術は、Claude 2やClaude Instant 1.2などの旧世代のClaude モデルにも適用できます。\n\n- `Shift + Enter`を使用してセルを実行し、次のセルに移動できます。\n\n- チュートリアルページの最後に到達したら、フォルダ内の次の番号のファイルに進むか、その章のファイル内のコンテンツが終了している場合は次の番号のフォルダに進んでください。\n\n### Anthropic SDK と Messages API\nこのチュートリアル全体を通して、[Anthropic python SDK](https://docs.anthropic.com/claude/reference/client-sdks)と[Messages API](https://docs.anthropic.com/claude/reference/messages_post)を使用します。\n\n以下は、このチュートリアルでプロンプトを実行する際の例です。まず、プロンプトをClaudeに送信し、Claudeが生成した回答を返すヘルパー関数である`get_completion`を作成します。今すぐそのセルを実行してください。",
   "outputs": []
  },
  {
   "cell_type": "markdown",
   "metadata": {},
   "source": "まず、モデル名とリージョンを設定して保存します。",
   "outputs": []
  },
  {
   "cell_type": "code",
   "execution_count": null,
   "metadata": {},
   "outputs": [],
   "source": [
    "import boto3\n",
    "session = boto3.Session() # create a boto3 session to dynamically get and set the region name\n",
    "AWS_REGION = session.region_name\n",
    "print(\"AWS Region:\", AWS_REGION)\n",
    "MODEL_NAME = \"anthropic.claude-3-haiku-20240307-v1:0\"\n",
    "\n",
    "%store MODEL_NAME\n",
    "%store AWS_REGION"
   ]
  },
  {
   "cell_type": "markdown",
   "metadata": {},
   "source": "次に、プロンプトをClaudeに送信し、Claudeが生成した回答を返すヘルパー関数である`get_completion`を作成します。今すぐそのセルを実行してください。",
   "outputs": []
  },
  {
   "cell_type": "code",
   "execution_count": null,
   "metadata": {},
   "outputs": [],
   "source": [
    "import boto3\n",
    "import json\n",
    "\n",
    "bedrock = boto3.client('bedrock-runtime',region_name=AWS_REGION)\n",
    "\n",
    "def get_completion(prompt):\n",
    "    body = json.dumps(\n",
    "        {\n",
    "            \"anthropic_version\": '',\n",
    "            \"max_tokens\": 2000,\n",
    "            \"messages\": [{\"role\": \"user\", \"content\": prompt}],\n",
    "            \"temperature\": 0.0,\n",
    "            \"top_p\": 1,\n",
    "            \"system\": ''\n",
    "        }\n",
    "    )\n",
    "    response = bedrock.invoke_model(body=body, modelId=MODEL_NAME)\n",
    "    response_body = json.loads(response.get('body').read())\n",
    "\n",
    "    return response_body.get('content')[0].get('text')"
   ]
  },
  {
   "cell_type": "markdown",
   "metadata": {},
   "source": "それでは、Claudeに向けてサンプルプロンプトを書き、`get_completion`ヘルパー関数を実行してClaudeの出力を表示してみましょう。以下のセルを実行すると、その下にClaudeからの回答が表示されます。\n\nClaudeから異なる回答を引き出すために、お気軽にプロンプト文字列を変更して試してみてください。",
   "outputs": []
  },
  {
   "cell_type": "code",
   "execution_count": null,
   "metadata": {},
   "outputs": [],
   "source": [
    "# Prompt\n",
    "prompt = \"Hello, Claude!\"\n",
    "\n",
    "# Get Claude's response\n",
    "print(get_completion(prompt))"
   ]
  },
  {
   "cell_type": "markdown",
   "metadata": {},
   "source": "先ほど定義した`MODEL_NAME`と`AWS_REGION`変数は、チュートリアル全体を通して使用されます。各チュートリアルページのセルを上から下に順番に実行するようにしてください。",
   "outputs": []
  }
 ],
 "metadata": {
  "kernelspec": {
   "display_name": "py310",
   "language": "python",
   "name": "python3"
  },
  "language_info": {
   "codemirror_mode": {
    "name": "ipython",
    "version": 3
   },
   "file_extension": ".py",
   "mimetype": "text/x-python",
   "name": "python",
   "nbconvert_exporter": "python",
   "pygments_lexer": "ipython3",
   "version": "3.12.0"
  }
 },
 "nbformat": 4,
 "nbformat_minor": 2
}