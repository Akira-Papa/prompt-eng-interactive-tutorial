{
 "cells": [
  {
   "cell_type": "markdown",
   "metadata": {},
   "source": "# AIモデルの評価：コード、人間、モデルベースの採点\n\nこのノートブックでは、Claude v3のようなAIモデルの有効性を評価するために広く使用されている3つの手法について詳しく説明します：\n\n1. コードベースの採点\n2. 人間による採点\n3. モデルベースの採点\n\n各アプローチを例を通して説明し、AIのパフォーマンスを測定する際のそれぞれの利点と制限について検討します。",
   "outputs": []
  },
  {
   "cell_type": "markdown",
   "metadata": {},
   "source": "## コードベースの採点例：感情分析\n\nこの例では、映画レビューの感情を肯定的か否定的かに分類するClaudeの能力を評価します。コードを使用して、モデルの出力が期待される感情と一致するかどうかを確認できます。",
   "outputs": []
  },
  {
   "cell_type": "code",
   "execution_count": null,
   "metadata": {
    "tags": []
   },
   "outputs": [],
   "source": [
    "# Store the model name and AWS region for later use\n",
    "MODEL_NAME = \"anthropic.claude-3-haiku-20240307-v1:0\"\n",
    "AWS_REGION = \"us-west-2\"\n",
    "\n",
    "%store MODEL_NAME\n",
    "%store AWS_REGION"
   ]
  },
  {
   "cell_type": "code",
   "execution_count": null,
   "metadata": {
    "tags": []
   },
   "outputs": [],
   "source": [
    "# Install the Anthropic package\n",
    "%pip install anthropic --quiet"
   ]
  },
  {
   "cell_type": "code",
   "execution_count": null,
   "metadata": {
    "tags": []
   },
   "outputs": [],
   "source": [
    "# Import the AnthropicBedrock class and create a client instance\n",
    "from anthropic import AnthropicBedrock\n",
    "\n",
    "client = AnthropicBedrock(aws_region=AWS_REGION)"
   ]
  },
  {
   "cell_type": "code",
   "execution_count": null,
   "metadata": {
    "tags": []
   },
   "outputs": [],
   "source": [
    "# Function to build the input prompt for sentiment analysis\n",
    "def build_input_prompt(review):\n",
    "    user_content = f\"\"\"Classify the sentiment of the following movie review as either 'positive' or 'negative' provide only one of those two choices:\n",
    "    <review>{review}</review>\"\"\"\n",
    "    return [{\"role\": \"user\", \"content\": user_content}]\n",
    "\n",
    "# Define the evaluation data\n",
    "eval = [\n",
    "    {\n",
    "        \"review\": \"This movie was amazing! The acting was superb and the plot kept me engaged from start to finish.\",\n",
    "        \"golden_answer\": \"positive\"\n",
    "    },\n",
    "    {\n",
    "        \"review\": \"I was thoroughly disappointed by this film. The pacing was slow and the characters were one-dimensional.\",\n",
    "        \"golden_answer\": \"negative\"\n",
    "    }\n",
    "]\n",
    "\n",
    "# Function to get completions from the model\n",
    "def get_completion(messages):\n",
    "    message = client.messages.create(\n",
    "        model=MODEL_NAME,\n",
    "        max_tokens=2000,\n",
    "        temperature=0.0,\n",
    "        messages=messages\n",
    "    )\n",
    "    return message.content[0].text\n",
    "\n",
    "# Get completions for each input\n",
    "outputs = [get_completion(build_input_prompt(item[\"review\"])) for item in eval]\n",
    "\n",
    "# Print the outputs and golden answers\n",
    "for output, question in zip(outputs, eval):\n",
    "    print(f\"Review: {question['review']}\\nGolden Answer: {question['golden_answer']}\\nOutput: {output}\\n\")\n",
    "\n",
    "# Function to grade the completions\n",
    "def grade_completion(output, golden_answer):\n",
    "    return output.lower() == golden_answer.lower()\n",
    "\n",
    "# Grade the completions and print the accuracy\n",
    "grades = [grade_completion(output, item[\"golden_answer\"]) for output, item in zip(outputs, eval)]\n",
    "print(f\"Accuracy: {sum(grades) / len(grades) * 100}%\")"
   ]
  },
  {
   "cell_type": "markdown",
   "metadata": {},
   "source": "## 人間による採点例：エッセイの採点\n\nエッセイの採点のようないくつかのタスクは、コードだけで評価することが困難です。この場合、人間の採点者がモデルの出力を評価するためのガイドラインを提供できます。",
   "outputs": []
  },
  {
   "cell_type": "code",
   "execution_count": null,
   "metadata": {
    "tags": []
   },
   "outputs": [],
   "source": [
    "# Function to build the input prompt for essay generation\n",
    "def build_input_prompt(topic):\n",
    "    user_content = f\"\"\"Write a short essay discussing the following topic:\n",
    "    <topic>{topic}</topic>\"\"\"\n",
    "    return [{\"role\": \"user\", \"content\": user_content}]\n",
    "\n",
    "# Define the evaluation data\n",
    "eval = [\n",
    "    {\n",
    "        \"topic\": \"The importance of education in personal development and societal progress\",\n",
    "        \"golden_answer\": \"A high-scoring essay should have a clear thesis, well-structured paragraphs, and persuasive examples discussing how education contributes to individual growth and broader societal advancement.\"\n",
    "    }\n",
    "]\n",
    "\n",
    "# Get completions for each input\n",
    "outputs = [get_completion(build_input_prompt(item[\"topic\"])) for item in eval]\n",
    "\n",
    "# Print the outputs and golden answers\n",
    "for output, item in zip(outputs, eval):\n",
    "    print(f\"Topic: {item['topic']}\\n\\nGrading Rubric:\\n {item['golden_answer']}\\n\\nModel Output:\\n{output}\\n\")"
   ]
  },
  {
   "cell_type": "markdown",
   "metadata": {},
   "source": "## モデルベースの採点例\n\nClaudeを使用して、モデルの応答と採点ルーブリックを提供することで、自身の出力を採点することができます。これにより、通常は人間の判断を必要とするタスクの評価を自動化できます。",
   "outputs": []
  },
  {
   "cell_type": "markdown",
   "metadata": {},
   "source": "### 例1：要約\n\nこの例では、Claudeを使用して生成した要約の品質を評価します。これは、モデルがより長いテキストから重要な情報を簡潔かつ正確に抽出する能力を評価する必要がある場合に便利です。カバーすべき重要なポイントを概説するルーブリックを提供することで、採点プロセスを自動化し、要約タスクでのモデルのパフォーマンスを迅速に評価できます。",
   "outputs": []
  },
  {
   "cell_type": "code",
   "execution_count": null,
   "metadata": {
    "tags": []
   },
   "outputs": [],
   "source": [
    "# Function to build the input prompt for summarization\n",
    "def build_input_prompt(text):\n",
    "    user_content = f\"\"\"Please summarize the main points of the following text:\n",
    "    <text>{text}</text>\"\"\"\n",
    "    return [{\"role\": \"user\", \"content\": user_content}]\n",
    "\n",
    "# Function to build the grader prompt for assessing summary quality\n",
    "def build_grader_prompt(output, rubric):\n",
    "    user_content = f\"\"\"Assess the quality of the following summary based on this rubric:\n",
    "    <rubric>{rubric}</rubric>\n",
    "    <summary>{output}</summary>\n",
    "    Provide a score from 1-5, where 1 is poor and 5 is excellent.\"\"\"\n",
    "    return [{\"role\": \"user\", \"content\": user_content}]\n",
    "\n",
    "# Define the evaluation data\n",
    "eval = [\n",
    "    {\n",
    "        \"text\": \"The Magna Carta, signed in 1215, was a pivotal document in English history. It limited the powers of the monarchy and established the principle that everyone, including the king, was subject to the law. This laid the foundation for constitutional governance and the rule of law in England and influenced legal systems worldwide.\",\n",
    "        \"golden_answer\": \"A high-quality summary should concisely capture the key points: 1) The Magna Carta's significance in English history, 2) Its role in limiting monarchical power, 3) Establishing the principle of rule of law, and 4) Its influence on legal systems around the world.\"\n",
    "    }\n",
    "]\n",
    "\n",
    "# Get completions for each input\n",
    "outputs = [get_completion(build_input_prompt(item[\"text\"])) for item in eval]\n",
    "\n",
    "# Grade the completions\n",
    "grades = [get_completion(build_grader_prompt(output, item[\"golden_answer\"])) for output, item in zip(outputs, eval)]\n",
    "\n",
    "# Print the summary quality score\n",
    "print(f\"Summary quality score: {grades[0]}\")"
   ]
  },
  {
   "cell_type": "markdown",
   "metadata": {},
   "source": "### 例2：ファクトチェック\n\nこの例では、Claudeを使用して主張をファクトチェックし、そのファクトチェックの精度を評価します。これは、モデルが正確な情報と不正確な情報を区別する能力を評価する必要がある場合に便利です。正しいファクトチェックでカバーすべき重要なポイントを概説するルーブリックを提供することで、採点プロセスを自動化し、ファクトチェックタスクでのモデルのパフォーマンスを迅速に評価できます。",
   "outputs": []
  },
  {
   "cell_type": "code",
   "execution_count": null,
   "metadata": {
    "tags": []
   },
   "outputs": [],
   "source": [
    "# Function to build the input prompt for fact-checking\n",
    "def build_input_prompt(claim):\n",
    "    user_content = f\"\"\"Determine if the following claim is true or false:\n",
    "    <claim>{claim}</claim>\"\"\"\n",
    "    return [{\"role\": \"user\", \"content\": user_content}]\n",
    "\n",
    "# Function to build the grader prompt for assessing fact-check accuracy\n",
    "def build_grader_prompt(output, rubric):\n",
    "    user_content = f\"\"\"Based on the following rubric, assess whether the fact-check is correct:\n",
    "    <rubric>{rubric}</rubric>\n",
    "    <fact-check>{output}</fact-check>\"\"\"\n",
    "    return [{\"role\": \"user\", \"content\": user_content}]\n",
    "\n",
    "# Define the evaluation data\n",
    "eval = [\n",
    "    {\n",
    "        \"claim\": \"The Great Wall of China is visible from space.\",\n",
    "        \"golden_answer\": \"A correct fact-check should state that this claim is false. While the Great Wall is an impressive structure, it is not visible from space with the naked eye.\"\n",
    "    }\n",
    "]\n",
    "\n",
    "# Get completions for each input\n",
    "outputs = [get_completion(build_input_prompt(item[\"claim\"])) for item in eval]\n",
    "\n",
    "grades = []\n",
    "for output, item in zip(outputs, eval):\n",
    "    # Print the claim, fact-check, and rubric\n",
    "    print(f\"Claim: {item['claim']}\\n\")\n",
    "    print(f\"Fact-check: {output}]\\n\")\n",
    "    print(f\"Rubric: {item['golden_answer']}\\n\")\n",
    "    \n",
    "    # Grade the fact-check\n",
    "    grader_prompt = build_grader_prompt(output, item[\"golden_answer\"])\n",
    "    grade = get_completion(grader_prompt)\n",
    "    grades.append(\"correct\" in grade.lower())\n",
    "\n",
    "# Print the fact-checking accuracy\n",
    "accuracy = sum(grades) / len(grades)\n",
    "print(f\"Fact-checking accuracy: {accuracy * 100}%\")"
   ]
  },
  {
   "cell_type": "markdown",
   "metadata": {},
   "source": "### 例3：トーン分析\n\nこの例では、Claudeを使用して特定のテキストのトーンを分析し、その分析の精度を評価します。これは、テキストに表現された感情的な内容と態度を識別し解釈するモデルの能力を評価する必要がある場合に便利です。識別すべきトーンの重要な側面を概説するルーブリックを提供することで、採点プロセスを自動化し、トーン分析タスクでのモデルのパフォーマンスを迅速に評価できます。",
   "outputs": []
  },
  {
   "cell_type": "code",
   "execution_count": null,
   "metadata": {
    "tags": []
   },
   "outputs": [],
   "source": [
    "# Function to build the input prompt for tone analysis\n",
    "def build_input_prompt(text):\n",
    "    user_content = f\"\"\"Analyze the tone of the following text:\n",
    "    <text>{text}</text>\"\"\"\n",
    "    return [{\"role\": \"user\", \"content\": user_content}]\n",
    "\n",
    "# Function to build the grader prompt for assessing tone analysis accuracy\n",
    "def build_grader_prompt(output, rubric):\n",
    "    user_content = f\"\"\"Assess the accuracy of the following tone analysis based on this rubric:\n",
    "    <rubric>{rubric}</rubric>\n",
    "    <tone-analysis>{output}</tone-analysis>\"\"\"\n",
    "    return [{\"role\": \"user\", \"content\": user_content}]\n",
    "\n",
    "# Define the evaluation data\n",
    "eval = [\n",
    "    {\n",
    "        \"text\": \"I can't believe they canceled the event at the last minute. This is completely unacceptable and unprofessional!\",\n",
    "        \"golden_answer\": \"The tone analysis should identify the text as expressing frustration, anger, and disappointment. Key words like 'can't believe', 'last minute', 'unacceptable', and 'unprofessional' indicate strong negative emotions.\"\n",
    "    }\n",
    "]\n",
    "\n",
    "# Get completions for each input\n",
    "outputs = [get_completion(build_input_prompt(item[\"text\"])) for item in eval]\n",
    "\n",
    "# Grade the completions\n",
    "grades = [get_completion(build_grader_prompt(output, item[\"golden_answer\"])) for output, item in zip(outputs, eval)]\n",
    "\n",
    "# Print the tone analysis quality\n",
    "print(f\"Tone analysis quality: {grades[0]}\")"
   ]
  },
  {
   "cell_type": "markdown",
   "metadata": {},
   "source": "これらの例は、コードベース、人間、モデルベースの採点が、さまざまなタスクでClaudeのようなAIモデルを評価するためにどのように使用できるかを示しています。評価方法の選択は、タスクの性質と利用可能なリソースによって異なります。モデルベースの採点は、そうでなければ人間の判断を必要とする複雑なタスクの評価を自動化するための有望なアプローチを提供します。",
   "outputs": []
  }
 ],
 "metadata": {
  "kernelspec": {
   "display_name": "conda_pytorch_p310",
   "language": "python",
   "name": "conda_pytorch_p310"
  },
  "language_info": {
   "codemirror_mode": {
    "name": "ipython",
    "version": 3
   },
   "file_extension": ".py",
   "mimetype": "text/x-python",
   "name": "python",
   "nbconvert_exporter": "python",
   "pygments_lexer": "ipython3",
   "version": "3.10.13"
  }
 },
 "nbformat": 4,
 "nbformat_minor": 4
}