{
 "cells": [
  {
   "cell_type": "markdown",
   "metadata": {},
   "source": [
    "# チュートリアルの使い方\n",
    "\n",
    "このチュートリアルでは、ワークショップ内のすべてのノートブックで要件と環境変数が保存されるように、最初にこの初期ノートブックを実行する必要があります。"
   ]
  },
  {
   "cell_type": "markdown",
   "metadata": {},
   "source": [
    "## はじめ方\n",
    "\n",
    "1. このリポジトリをローカルマシンにクローンします。\n",
    "\n",
    "2. 以下のコマンドを実行して必要な依存関係をインストールします：\n",
    " "
   ]
  },
  {
   "cell_type": "code",
   "execution_count": 2,
   "metadata": {},
   "outputs": [
    {
     "name": "stdout",
     "output_type": "stream",
     "text": [
      "Note: you may need to restart the kernel to use updated packages.\n",
      "Note: you may need to restart the kernel to use updated packages.\n"
     ]
    }
   ],
   "source": [
    "%pip install -qU pip\n",
    "%pip install -qr ../requirements.txt"
   ]
  },
  {
   "cell_type": "markdown",
   "metadata": {},
   "source": [
    "3. 依存関係をインストールした後、カーネルを再起動します"
   ]
  },
  {
   "cell_type": "code",
   "execution_count": null,
   "metadata": {},
   "outputs": [],
   "source": [
    "# restart kernel\n",
    "from IPython.core.display import HTML\n",
    "HTML(\"<script>Jupyter.notebook.kernel.restart()</script>\")"
   ]
  },
  {
   "cell_type": "markdown",
   "metadata": {},
   "source": [
    "---\n",
    "\n",
    "## 使用上の注意とヒント 💡\n",
    "\n",
    "- このコースではtemperature 0のClaude 3 Haikuを使用しています。temperatureについては後ほど詳しく説明します。今のところ、これらの設定によってより決定的な結果が得られることを理解しておけば十分です。このコースのすべてのプロンプトエンジニアリング技術は、Claude 2やClaude Instant 1.2などの前世代のレガシーClaudeモデルにも適用されます。\n",
    "\n",
    "- `Shift + Enter`を使用してセルを実行し、次のセルに移動できます。\n",
    "\n",
    "- チュートリアルページの最後に到達したら、フォルダ内の次の番号付きファイルに移動するか、そのチャプターファイル内のコンテンツが終了した場合は次の番号付きフォルダに移動してください。\n",
    "\n",
    "### Anthropic SDKとMessages API\n",
    "このチュートリアル全体を通して、[Anthropic python SDK](https://docs.anthropic.com/claude/reference/claude-on-amazon-bedrock)と[Messages API](https://docs.anthropic.com/claude/reference/messages_post)を使用します。\n",
    "\n",
    "以下は、このチュートリアルでプロンプトを実行する際の例です。"
   ]
  },
  {
   "cell_type": "markdown",
   "metadata": {},
   "source": [
    "まず、モデル名とリージョンを設定して保存します。"
   ]
  },
  {
   "cell_type": "code",
   "execution_count": null,
   "metadata": {},
   "outputs": [],
   "source": [
    "import boto3\n",
    "session = boto3.Session() # create a boto3 session to dynamically get and set the region name\n",
    "AWS_REGION = session.region_name\n",
    "print(\"AWS Region:\", AWS_REGION)\n",
    "MODEL_NAME = \"anthropic.claude-3-haiku-20240307-v1:0\"\n",
    "\n",
    "%store MODEL_NAME\n",
    "%store AWS_REGION"
   ]
  },
  {
   "cell_type": "markdown",
   "metadata": {},
   "source": [
    "次に、プロンプトをClaudeに送信し、Claudeが生成した応答を返すヘルパー関数`get_completion`を作成します。今すぐそのセルを実行してください。"
   ]
  },
  {
   "cell_type": "code",
   "execution_count": null,
   "metadata": {},
   "outputs": [],
   "source": [
    "from anthropic import AnthropicBedrock\n",
    "\n",
    "client = AnthropicBedrock(aws_region=AWS_REGION)\n",
    "\n",
    "def get_completion(prompt, system=''):\n",
    "    message = client.messages.create(\n",
    "        model=MODEL_NAME,\n",
    "        max_tokens=2000,\n",
    "        temperature=0.0,\n",
    "        messages=[\n",
    "          {\"role\": \"user\", \"content\": prompt}\n",
    "        ],\n",
    "        system=system\n",
    "    )\n",
    "    return message.content[0].text"
   ]
  },
  {
   "cell_type": "markdown",
   "metadata": {},
   "source": [
    "次に、Claudeのサンプルプロンプトを記述し、`get_completion`ヘルパー関数を実行してClaudeの出力を印刷します。以下のセルを実行すると、Claudeからの応答がその下に印刷されます。\n",
    "\n",
    "Claudeから異なる応答を引き出すため、プロンプト文字列を自由に変更してみてください。"
   ]
  },
  {
   "cell_type": "code",
   "execution_count": null,
   "metadata": {},
   "outputs": [],
   "source": [
    "# Prompt\n",
    "prompt = \"Hello, Claude!\"\n",
    "\n",
    "# Get Claude's response\n",
    "print(get_completion(prompt))"
   ]
  },
  {
   "cell_type": "markdown",
   "metadata": {},
   "source": [
    "先ほど定義した`MODEL_NAME`と`AWS_REGION`変数は、チュートリアル全体を通して使用されます。各チュートリアルページのセルを上から下へ順番に実行するようにしてください。"
   ]
  }
 ],
 "metadata": {
  "kernelspec": {
   "display_name": "py310",
   "language": "python",
   "name": "python3"
  },
  "language_info": {
   "codemirror_mode": {
    "name": "ipython",
    "version": 3
   },
   "file_extension": ".py",
   "mimetype": "text/x-python",
   "name": "python",
   "nbconvert_exporter": "python",
   "pygments_lexer": "ipython3",
   "version": "3.11.5"
  }
 },
 "nbformat": 4,
 "nbformat_minor": 2
}
