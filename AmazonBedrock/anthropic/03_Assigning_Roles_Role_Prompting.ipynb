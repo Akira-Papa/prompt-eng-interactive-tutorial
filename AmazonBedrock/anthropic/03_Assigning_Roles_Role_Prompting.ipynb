{
 "cells": [
  {
   "cell_type": "markdown",
   "metadata": {},
   "source": "# 第3章: 役割の割り当て（ロールプロンプティング）\n\n- [レッスン](#lesson)\n- [演習](#exercises)\n- [サンプル実験場](#example-playground)\n\n## セットアップ\n\n以下のセットアップセルを実行して、APIキーを読み込み、`get_completion`ヘルパー関数を確立してください。",
   "outputs": []
  },
  {
   "cell_type": "code",
   "execution_count": null,
   "metadata": {},
   "outputs": [],
   "source": [
    "%pip install anthropic --quiet\n",
    "\n",
    "# Import the hints module from the utils package\n",
    "import os\n",
    "import sys\n",
    "module_path = \"..\"\n",
    "sys.path.append(os.path.abspath(module_path))\n",
    "from utils import hints\n",
    "\n",
    "# Import python's built-in regular expression library\n",
    "import re\n",
    "from anthropic import AnthropicBedrock\n",
    "\n",
    "%store -r MODEL_NAME\n",
    "%store -r AWS_REGION\n",
    "\n",
    "client = AnthropicBedrock(aws_region=AWS_REGION)\n",
    "\n",
    "def get_completion(prompt, system=''):\n",
    "    message = client.messages.create(\n",
    "        model=MODEL_NAME,\n",
    "        max_tokens=2000,\n",
    "        temperature=0.0,\n",
    "        messages=[\n",
    "          {\"role\": \"user\", \"content\": prompt}\n",
    "        ],\n",
    "        system=system\n",
    "    )\n",
    "    return message.content[0].text"
   ]
  },
  {
   "cell_type": "markdown",
   "metadata": {},
   "source": "---\n\n## レッスン\n\nClaudeがあなたの発言以外にコンテキストを持たないというテーマを続けると、時には**Claudeに特定の役割を担ってもらう（必要なコンテキストをすべて含めて）ことが重要**になります。これはロールプロンプティングとしても知られています。役割のコンテキストが詳細であればあるほど良いでしょう。\n\n**Claudeに役割を与えることで、様々な分野でClaudeのパフォーマンスを向上させることができます**。文章作成からコーディング、要約まで幅広く効果があります。これは人間が「______のように考えて」と言われることで助けられることがあるのと似ています。ロールプロンプティングは、Claudeの応答のスタイル、トーン、方法も変更できます。\n\n**注意：** ロールプロンプティングは、システムプロンプトまたはUserメッセージターンの一部として実行できます。",
   "outputs": []
  },
  {
   "cell_type": "markdown",
   "metadata": {},
   "source": "### 例\n\n以下の例では、ロールプロンプティングなしでは、スケートボードについて一文で見解を求められた時、Claudeは**率直で特別な文体でない回答**を提供することがわかります。\n\nしかし、Claudeに猫の役割を担わせると、Claudeの視点が変わり、そのため**Claudeの応答のトーン、スタイル、内容が新しい役割に適応します**。\n\n**注意：** 使える追加のテクニックとして、**Claudeに想定される読者についてのコンテキストを提供する**ことができます。以下では、プロンプトを調整してClaudeが誰に話しかけるべきかも伝えることができました。「あなたは猫です」は「あなたはスケートボーダーの群衆に話しかける猫です」とは全く異なる応答を生み出します。\n\n以下は、システムプロンプトでロールプロンプティングを使わないプロンプトです：",
   "outputs": []
  },
  {
   "cell_type": "code",
   "execution_count": null,
   "metadata": {},
   "outputs": [],
   "source": [
    "# Prompt\n",
    "PROMPT = \"In one sentence, what do you think about skateboarding?\"\n",
    "\n",
    "# Print Claude's response\n",
    "print(get_completion(PROMPT))"
   ]
  },
  {
   "cell_type": "markdown",
   "metadata": {},
   "source": "以下は同じユーザーの質問ですが、ロールプロンプティングを使用しています。",
   "outputs": []
  },
  {
   "cell_type": "code",
   "execution_count": null,
   "metadata": {},
   "outputs": [],
   "source": [
    "# System prompt\n",
    "SYSTEM_PROMPT = \"You are a cat.\"\n",
    "\n",
    "# Prompt\n",
    "PROMPT = \"In one sentence, what do you think about skateboarding?\"\n",
    "\n",
    "# Print Claude's response\n",
    "print(get_completion(PROMPT, SYSTEM_PROMPT))"
   ]
  },
  {
   "cell_type": "markdown",
   "metadata": {},
   "source": "ロールプロンプティングを使って、Claudeに特定のスタイルで文章を書いてもらったり、特定の声で話してもらったり、回答の複雑さを導いたりすることができます。**ロールプロンプティングはClaudeの数学や論理タスクの実行能力も向上させることができます。**\n\n例えば、以下の例では明確に正しい答えがあり、それは「はい」です。しかし、Claudeは間違いを犯し、情報が不足していると考えますが、実際にはそうではありません：",
   "outputs": []
  },
  {
   "cell_type": "code",
   "execution_count": null,
   "metadata": {},
   "outputs": [],
   "source": [
    "# Prompt\n",
    "PROMPT = \"Jack is looking at Anne. Anne is looking at George. Jack is married, George is not, and we don’t know if Anne is married. Is a married person looking at an unmarried person?\"\n",
    "\n",
    "# Print Claude's response\n",
    "print(get_completion(PROMPT))"
   ]
  },
  {
   "cell_type": "markdown",
   "metadata": {},
   "source": "では、**Claudeに論理ボットとして動作するよう促した場合**はどうでしょうか？Claudeの答えはどのように変わるでしょうか？\n\nこの新しい役割の割り当てにより、Claudeは正解を得ることがわかります。（ただし、必ずしもすべて正しい理由ではありませんが）",
   "outputs": []
  },
  {
   "cell_type": "code",
   "execution_count": null,
   "metadata": {},
   "outputs": [],
   "source": [
    "# System prompt\n",
    "SYSTEM_PROMPT = \"You are a logic bot designed to answer complex logic problems.\"\n",
    "\n",
    "# Prompt\n",
    "PROMPT = \"Jack is looking at Anne. Anne is looking at George. Jack is married, George is not, and we don’t know if Anne is married. Is a married person looking at an unmarried person?\"\n",
    "\n",
    "# Print Claude's response\n",
    "print(get_completion(PROMPT, SYSTEM_PROMPT))"
   ]
  },
  {
   "cell_type": "markdown",
   "metadata": {},
   "source": "**注意：** このコースを通して学ぶことは、**似たような結果を得るために使えるプロンプトエンジニアリング技術が多数ある**ということです。どの技術を使うかはあなたとあなたの好み次第です！**実験して自分自身のプロンプトエンジニアリングスタイルを見つけることをお勧めします**。\n\n上記の内容を変更せずにレッスンのプロンプトを試したい場合は、レッスンノートブックの最下部にある[**サンプル実験場**](#example-playground)にスクロールしてください。",
   "outputs": []
  },
  {
   "cell_type": "markdown",
   "metadata": {},
   "source": "---\n\n## 演習\n- [演習 3.1 - 数学の訂正](#exercise-31---math-correction)",
   "outputs": []
  },
  {
   "cell_type": "markdown",
   "metadata": {},
   "source": "### 演習 3.1 - 数学の訂正\n場合によっては、**Claudeは数学、それも簡単な数学で苦労することがあります**。以下では、Claudeは数学問題を正しく解けていると誤って評価していますが、実際には2番目のステップに明らかな計算間違いがあります。Claudeは実際にステップバイステップで進む際に間違いに気づいていますが、全体的な解答が間違っているという結論には至りません。\n\n`PROMPT`および/または`SYSTEM_PROMPT`を修正して、Claudeが解答を正しく解けていると評価するのではなく、`incorrectly`（間違って）解けていると評価するようにしてください。",
   "outputs": []
  },
  {
   "cell_type": "code",
   "execution_count": null,
   "metadata": {},
   "outputs": [],
   "source": [
    "# System prompt - if you don't want to use a system prompt, you can leave this variable set to an empty string\n",
    "SYSTEM_PROMPT = \"\"\n",
    "\n",
    "# Prompt\n",
    "PROMPT = \"\"\"Is this equation solved correctly below?\n",
    "\n",
    "2x - 3 = 9\n",
    "2x = 6\n",
    "x = 3\"\"\"\n",
    "\n",
    "# Get Claude's response\n",
    "response = get_completion(PROMPT, SYSTEM_PROMPT)\n",
    "\n",
    "# Function to grade exercise correctness\n",
    "def grade_exercise(text):\n",
    "    if \"incorrect\" in text or \"not correct\" in text.lower():\n",
    "        return True\n",
    "    else:\n",
    "        return False\n",
    "\n",
    "# Print Claude's response and the corresponding grade\n",
    "print(response)\n",
    "print(\"\\n--------------------------- GRADING ---------------------------\")\n",
    "print(\"This exercise has been correctly solved:\", grade_exercise(response))"
   ]
  },
  {
   "cell_type": "markdown",
   "metadata": {},
   "source": "❓ ヒントが必要な場合は、以下のセルを実行してください！",
   "outputs": []
  },
  {
   "cell_type": "code",
   "execution_count": null,
   "metadata": {},
   "outputs": [],
   "source": [
    "print(hints.exercise_3_1_hint)"
   ]
  },
  {
   "cell_type": "markdown",
   "metadata": {},
   "source": "### おめでとうございます！\n\nこの時点ですべての演習を解けていれば、次の章に進む準備ができています。プロンプト作成を楽しんでください！",
   "outputs": []
  },
  {
   "cell_type": "markdown",
   "metadata": {},
   "source": "---\n\n## サンプル実験場\n\nこれは、このレッスンで示されたプロンプトサンプルを自由に試し、プロンプトを調整してClaudeの応答にどのような影響があるかを確認するためのエリアです。",
   "outputs": []
  },
  {
   "cell_type": "code",
   "execution_count": null,
   "metadata": {},
   "outputs": [],
   "source": [
    "# Prompt\n",
    "PROMPT = \"In one sentence, what do you think about skateboarding?\"\n",
    "\n",
    "# Print Claude's response\n",
    "print(get_completion(PROMPT))"
   ]
  },
  {
   "cell_type": "code",
   "execution_count": null,
   "metadata": {},
   "outputs": [],
   "source": [
    "# System prompt\n",
    "SYSTEM_PROMPT = \"You are a cat.\"\n",
    "\n",
    "# Prompt\n",
    "PROMPT = \"In one sentence, what do you think about skateboarding?\"\n",
    "\n",
    "# Print Claude's response\n",
    "print(get_completion(PROMPT, SYSTEM_PROMPT))"
   ]
  },
  {
   "cell_type": "code",
   "execution_count": null,
   "metadata": {},
   "outputs": [],
   "source": [
    "# Prompt\n",
    "PROMPT = \"Jack is looking at Anne. Anne is looking at George. Jack is married, George is not, and we don’t know if Anne is married. Is a married person looking at an unmarried person?\"\n",
    "\n",
    "# Print Claude's response\n",
    "print(get_completion(PROMPT))"
   ]
  },
  {
   "cell_type": "code",
   "execution_count": null,
   "metadata": {},
   "outputs": [],
   "source": [
    "# System prompt\n",
    "SYSTEM_PROMPT = \"You are a logic bot designed to answer complex logic problems.\"\n",
    "\n",
    "# Prompt\n",
    "PROMPT = \"Jack is looking at Anne. Anne is looking at George. Jack is married, George is not, and we don’t know if Anne is married. Is a married person looking at an unmarried person?\"\n",
    "\n",
    "# Print Claude's response\n",
    "print(get_completion(PROMPT, SYSTEM_PROMPT))"
   ]
  }
 ],
 "metadata": {
  "language_info": {
   "name": "python"
  }
 },
 "nbformat": 4,
 "nbformat_minor": 2
}