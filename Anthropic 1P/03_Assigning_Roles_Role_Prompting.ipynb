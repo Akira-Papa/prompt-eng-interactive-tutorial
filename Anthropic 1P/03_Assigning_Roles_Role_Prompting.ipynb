{
 "cells": [
  {
   "cell_type": "markdown",
   "metadata": {},
   "source": "# 第3章: 役割の割り当て（ロールプロンプティング）\n\n- [レッスン](#lesson)\n- [演習](#exercises)\n- [サンプル練習場](#example-playground)\n\n## セットアップ\n\n以下のセットアップセルを実行して、APIキーを読み込み、`get_completion`ヘルパー関数を設定してください。",
   "outputs": []
  },
  {
   "cell_type": "code",
   "execution_count": null,
   "metadata": {},
   "outputs": [],
   "source": [
    "!pip install anthropic\n",
    "\n",
    "# Import python's built-in regular expression library\n",
    "import re\n",
    "import anthropic\n",
    "\n",
    "# Retrieve the API_KEY & MODEL_NAME variables from the IPython store\n",
    "%store -r API_KEY\n",
    "%store -r MODEL_NAME\n",
    "\n",
    "client = anthropic.Anthropic(api_key=API_KEY)\n",
    "\n",
    "def get_completion(prompt: str, system_prompt=\"\"):\n",
    "    message = client.messages.create(\n",
    "        model=MODEL_NAME,\n",
    "        max_tokens=2000,\n",
    "        temperature=0.0,\n",
    "        system=system_prompt,\n",
    "        messages=[\n",
    "          {\"role\": \"user\", \"content\": prompt}\n",
    "        ]\n",
    "    )\n",
    "    return message.content[0].text"
   ]
  },
  {
   "cell_type": "markdown",
   "metadata": {},
   "source": "---\n\n## レッスン\n\nClaudeがあなたの言葉以外に文脈を持たないというテーマの続きで、時には**Claude に特定の役割を演じるよう促すこと（必要な文脈をすべて含めて）**が重要です。これはロールプロンプティングとも呼ばれます。役割の文脈が詳細であればあるほど良いです。\n\n**Claudeに役割を設定することで、Claudeのパフォーマンスを向上させることができます**。これは文章作成からコーディング、要約まで様々な分野に適用されます。これは人間が「______のように考えなさい」と言われることで時々助けられるのと似ています。ロールプロンプティングは、Claude の応答のスタイル、トーン、態度も変えることができます。\n\n**注記：** ロールプロンプティングは、システムプロンプトまたはユーザーメッセージターンの一部として行うことができます。",
   "outputs": []
  },
  {
   "cell_type": "markdown",
   "metadata": {},
   "source": "### 例\n\n下の例では、ロールプロンプティングなしでは、Claudeがスケートボードについて一文での視点を求められた時に**単刀直入で装飾のない答え**を提供することがわかります。\n\nしかし、Claudeに猫の役割を演じるよう促すと、Claude の視点が変わり、**Claude の応答のトーン、スタイル、内容が新しい役割に適応します**。\n\n**注記：** あなたが使えるボーナステクニックは、**Claude に想定される聞き手についての文脈を提供すること**です。下記では、Claudeが誰に話しかけるべきかを伝えるようにプロンプトを調整することもできました。「あなたは猫です」は「あなたはスケートボーダーの群衆に話しかける猫です」とはかなり異なる応答を生成します。\n\nシステムプロンプトでロールプロンプティングなしのプロンプトは以下です：",
   "outputs": []
  },
  {
   "cell_type": "code",
   "execution_count": null,
   "metadata": {},
   "outputs": [],
   "source": [
    "# Prompt\n",
    "PROMPT = \"In one sentence, what do you think about skateboarding?\"\n",
    "\n",
    "# Print Claude's response\n",
    "print(get_completion(PROMPT))"
   ]
  },
  {
   "cell_type": "markdown",
   "metadata": {},
   "source": "こちらは同じユーザーの質問ですが、ロールプロンプティングありの場合です。",
   "outputs": []
  },
  {
   "cell_type": "code",
   "execution_count": null,
   "metadata": {},
   "outputs": [],
   "source": [
    "# System prompt\n",
    "SYSTEM_PROMPT = \"You are a cat.\"\n",
    "\n",
    "# Prompt\n",
    "PROMPT = \"In one sentence, what do you think about skateboarding?\"\n",
    "\n",
    "# Print Claude's response\n",
    "print(get_completion(PROMPT, SYSTEM_PROMPT))"
   ]
  },
  {
   "cell_type": "markdown",
   "metadata": {},
   "source": "ロールプロンプティングは、Claudeに特定のライティングスタイルを模倣させたり、特定の声で話させたり、答えの複雑さを導いたりする方法として使用できます。**ロールプロンプティングは、Claude を数学や論理タスクの実行により優れたものにすることもできます。**\n\n例えば、下記の例では、明確な正解があります（「はい」です）。しかし、Claude は間違って情報が不足していると考えており、実際にはそうではありません：",
   "outputs": []
  },
  {
   "cell_type": "code",
   "execution_count": null,
   "metadata": {},
   "outputs": [],
   "source": [
    "# Prompt\n",
    "PROMPT = \"Jack is looking at Anne. Anne is looking at George. Jack is married, George is not, and we don’t know if Anne is married. Is a married person looking at an unmarried person?\"\n",
    "\n",
    "# Print Claude's response\n",
    "print(get_completion(PROMPT))"
   ]
  },
  {
   "cell_type": "markdown",
   "metadata": {},
   "source": "では、**Claude に論理ボットとして行動するよう促した**らどうでしょうか？それはClaude の答えをどのように変えるでしょうか？\n\nこの新しい役割の割り当てにより、Claude は正解を出すことがわかります。（ただし、必ずしもすべて正しい理由によるものではありませんが）",
   "outputs": []
  },
  {
   "cell_type": "code",
   "execution_count": null,
   "metadata": {},
   "outputs": [],
   "source": [
    "# System prompt\n",
    "SYSTEM_PROMPT = \"You are a logic bot designed to answer complex logic problems.\"\n",
    "\n",
    "# Prompt\n",
    "PROMPT = \"Jack is looking at Anne. Anne is looking at George. Jack is married, George is not, and we don’t know if Anne is married. Is a married person looking at an unmarried person?\"\n",
    "\n",
    "# Print Claude's response\n",
    "print(get_completion(PROMPT, SYSTEM_PROMPT))"
   ]
  },
  {
   "cell_type": "markdown",
   "metadata": {},
   "source": "**注記：** このコース全体を通して学ぶことは、**類似の結果を導くために使用できるプロンプトエンジニアリングテクニックが多数ある**ということです。どのテクニックを使用するかはあなた次第であり、あなたの好み次第です！**あなた自身のプロンプトエンジニアリングスタイルを見つけるために実験することを推奨します**。\n\n上記のコンテンツを変更せずにレッスンのプロンプトを試したい場合は、レッスンノートブックの一番下までスクロールして[**サンプル練習場**](#example-playground)にアクセスしてください。",
   "outputs": []
  },
  {
   "cell_type": "markdown",
   "metadata": {},
   "source": "---\n\n## 演習\n- [演習 3.1 - 数学の訂正](#exercise-31---math-correction)",
   "outputs": []
  },
  {
   "cell_type": "markdown",
   "metadata": {},
   "source": "### 演習 3.1 - 数学の訂正\n場合によっては、**Claude は数学、さらには単純な数学でも困る場合があります**。下記では、Claude は2番目のステップに明らかな計算ミスがあるにもかかわらず、数学の問題が正しく解かれていると間違って評価しています。Claude は実際にステップバイステップで進む際にミスに気づいていますが、全体の解答が間違っているという結論に飛びつくことはありません。\n\n`PROMPT`および/または`SYSTEM_PROMPT`を修正して、Claude が解答を正しく解かれたのではなく`間違って`解かれたと評価するようにしてください。",
   "outputs": []
  },
  {
   "cell_type": "code",
   "execution_count": null,
   "metadata": {},
   "outputs": [],
   "source": [
    "# System prompt - if you don't want to use a system prompt, you can leave this variable set to an empty string\n",
    "SYSTEM_PROMPT = \"\"\n",
    "\n",
    "# Prompt\n",
    "PROMPT = \"\"\"Is this equation solved correctly below?\n",
    "\n",
    "2x - 3 = 9\n",
    "2x = 6\n",
    "x = 3\"\"\"\n",
    "\n",
    "# Get Claude's response\n",
    "response = get_completion(PROMPT, SYSTEM_PROMPT)\n",
    "\n",
    "# Function to grade exercise correctness\n",
    "def grade_exercise(text):\n",
    "    if \"incorrect\" in text or \"not correct\" in text.lower():\n",
    "        return True\n",
    "    else:\n",
    "        return False\n",
    "\n",
    "# Print Claude's response and the corresponding grade\n",
    "print(response)\n",
    "print(\"\\n--------------------------- GRADING ---------------------------\")\n",
    "print(\"This exercise has been correctly solved:\", grade_exercise(response))"
   ]
  },
  {
   "cell_type": "markdown",
   "metadata": {},
   "source": "❓ ヒントが必要な場合は、下のセルを実行してください！",
   "outputs": []
  },
  {
   "cell_type": "code",
   "execution_count": null,
   "metadata": {},
   "outputs": [],
   "source": [
    "from hints import exercise_3_1_hint; print(exercise_3_1_hint)"
   ]
  },
  {
   "cell_type": "markdown",
   "metadata": {},
   "source": "### おめでとうございます！\n\nここまでのすべての演習を解いた場合、次の章に進む準備ができています。楽しいプロンプティングを！",
   "outputs": []
  },
  {
   "cell_type": "markdown",
   "metadata": {},
   "source": "---\n\n## サンプル練習場\n\nこれは、このレッスンで示されたプロンプトの例を自由に試し、プロンプトを調整してClaude の応答にどのような影響を与えるかを確認するためのエリアです。",
   "outputs": []
  },
  {
   "cell_type": "code",
   "execution_count": null,
   "metadata": {},
   "outputs": [],
   "source": [
    "# Prompt\n",
    "PROMPT = \"In one sentence, what do you think about skateboarding?\"\n",
    "\n",
    "# Print Claude's response\n",
    "print(get_completion(PROMPT))"
   ]
  },
  {
   "cell_type": "code",
   "execution_count": null,
   "metadata": {},
   "outputs": [],
   "source": [
    "# System prompt\n",
    "SYSTEM_PROMPT = \"You are a cat.\"\n",
    "\n",
    "# Prompt\n",
    "PROMPT = \"In one sentence, what do you think about skateboarding?\"\n",
    "\n",
    "# Print Claude's response\n",
    "print(get_completion(PROMPT, SYSTEM_PROMPT))"
   ]
  },
  {
   "cell_type": "code",
   "execution_count": null,
   "metadata": {},
   "outputs": [],
   "source": [
    "# Prompt\n",
    "PROMPT = \"Jack is looking at Anne. Anne is looking at George. Jack is married, George is not, and we don’t know if Anne is married. Is a married person looking at an unmarried person?\"\n",
    "\n",
    "# Print Claude's response\n",
    "print(get_completion(PROMPT))"
   ]
  },
  {
   "cell_type": "code",
   "execution_count": null,
   "metadata": {},
   "outputs": [],
   "source": [
    "# System prompt\n",
    "SYSTEM_PROMPT = \"You are a logic bot designed to answer complex logic problems.\"\n",
    "\n",
    "# Prompt\n",
    "PROMPT = \"Jack is looking at Anne. Anne is looking at George. Jack is married, George is not, and we don’t know if Anne is married. Is a married person looking at an unmarried person?\"\n",
    "\n",
    "# Print Claude's response\n",
    "print(get_completion(PROMPT, SYSTEM_PROMPT))"
   ]
  }
 ],
 "metadata": {
  "language_info": {
   "name": "python"
  }
 },
 "nbformat": 4,
 "nbformat_minor": 2
}