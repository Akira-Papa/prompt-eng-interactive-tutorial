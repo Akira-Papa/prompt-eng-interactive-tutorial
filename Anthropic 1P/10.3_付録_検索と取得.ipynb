{
 "cells": [
  {
   "cell_type": "markdown",
   "metadata": {},
   "source": "# 付録 10.3: 検索と取得\n\nClaudeを使って**Wikipediaを検索**できることをご存知でしたか？Claudeは記事を見つけて取得でき、その時点でClaudeを使用して要約や統合を行ったり、見つけた内容から新しいコンテンツを書いたりすることもできます。Wikipediaだけではありません！プレーンテキストとして保存されているか、ベクトルデータストアに埋め込まれているかにかかわらず、独自のドキュメントを検索することもできます。\n\n[RAGクックブックの例](https://github.com/anthropics/anthropic-cookbook/blob/main/third_party/Wikipedia/wikipedia-search-cookbook.ipynb)を参照して、ベクトルデータベース、Wikipedia、インターネットなどから取得したデータでClaudeの知識を補完し、Claudeの応答の精度と関連性を向上させる方法を学んでください。そこでは、特定の[埋め込み](https://docs.anthropic.com/claude/docs/embeddings)とベクトルデータベースツールの使用方法についても学ぶことができます。\n\nClaudeを使用した高度なRAGアーキテクチャについて学ぶことに興味がある場合は、[RAGアーキテクチャに関するClaude 3の技術プレゼンテーションスライド](https://docs.google.com/presentation/d/1zxkSI7lLUBrZycA-_znwqu8DDyVhHLkQGScvzaZrUns/edit#slide=id.g2c736259dac_63_782)をご覧ください。",
   "outputs": []
  }
 ],
 "metadata": {
  "language_info": {
   "name": "python"
  }
 },
 "nbformat": 4,
 "nbformat_minor": 2
}