{
 "cells": [
  {
   "cell_type": "markdown",
   "metadata": {},
   "source": [
    "# 第1章: 基本的なプロンプト構造\n",
    "\n",
    "- [レッスン](#lesson)\n",
    "- [演習](#exercises)\n",
    "- [サンプル実験場](#example-playground)\n",
    "\n",
    "## セットアップ\n",
    "\n",
    "以下のセットアップセルを実行して、APIキーを読み込み、`get_completion`ヘルパー関数を確立してください。"
   ]
  },
  {
   "cell_type": "code",
   "execution_count": null,
   "metadata": {},
   "outputs": [],
   "source": [
    "!pip install anthropic\n",
    "\n",
    "# Import python's built-in regular expression library\n",
    "import re\n",
    "import anthropic\n",
    "\n",
    "# Retrieve the API_KEY & MODEL_NAME variables from the IPython store\n",
    "%store -r API_KEY\n",
    "%store -r MODEL_NAME\n",
    "\n",
    "client = anthropic.Anthropic(api_key=API_KEY)\n",
    "\n",
    "def get_completion(prompt: str, system_prompt=\"\"):\n",
    "    message = client.messages.create(\n",
    "        model=MODEL_NAME,\n",
    "        max_tokens=2000,\n",
    "        temperature=0.0,\n",
    "        system=system_prompt,\n",
    "        messages=[\n",
    "          {\"role\": \"user\", \"content\": prompt}\n",
    "        ]\n",
    "    )\n",
    "    return message.content[0].text"
   ]
  },
  {
   "cell_type": "markdown",
   "metadata": {},
   "source": [
    "---\n",
    "\n",
    "## レッスン\n",
    "\n",
    "Anthropicは、従来の[Text Completions API](https://docs.anthropic.com/claude/reference/complete_post)と現在の[Messages API](https://docs.anthropic.com/claude/reference/messages_post)の2つのAPIを提供しています。このチュートリアルでは、Messages APIのみを使用します。\n",
    "\n",
    "Messages APIを使用してClaudeを呼び出すには、最低限以下のパラメータが必要です：\n",
    "- `model`：呼び出したいモデルの[APIモデル名](https://docs.anthropic.com/claude/docs/models-overview#model-recommendations)\n",
    "\n",
    "- `max_tokens`：停止するまでに生成する最大トークン数。Claudeはこの最大値に達する前に停止する場合があることに注意してください。このパラメータは生成する絶対最大トークン数のみを指定します。さらに、これは*ハード*ストップです。つまり、単語や文の途中でClaudeが生成を停止する可能性があります。\n",
    "\n",
    "- `messages`：入力メッセージの配列。私たちのモデルは、`user`と`assistant`の会話ターンの交代で動作するよう訓練されています。新しい`Message`を作成する際、messagesパラメータで以前の会話ターンを指定し、モデルが会話の次の`Message`を生成します。\n",
    "  - 各入力メッセージは、`role`と`content`を持つオブジェクトである必要があります。単一の`user`ロールメッセージを指定することも、複数の`user`と`assistant`メッセージを含めることもできます（その場合は交互になる必要があります）。最初のメッセージは常にuserロールを使用する必要があります。\n",
    "\n",
    "オプションパラメータもあります：\n",
    "- `system`：システムプロンプト - 詳細は以下で説明します。\n",
    "  \n",
    "- `temperature`：Claudeの応答の変動性の度合い。これらのレッスンと演習では、`temperature`を0に設定しています。\n",
    "\n",
    "すべてのAPIパラメータの完全なリストについては、[APIドキュメント](https://docs.anthropic.com/claude/reference/messages_post)をご覧ください。"
   ]
  },
  {
   "cell_type": "markdown",
   "metadata": {},
   "source": [
    "### 例\n",
    "\n",
    "Claudeが正しくフォーマットされたプロンプトにどのように応答するかを見てみましょう。以下の各セルについて、セルを実行し（`shift+enter`）、Claudeの応答がブロックの下に表示されます。"
   ]
  },
  {
   "cell_type": "code",
   "execution_count": null,
   "metadata": {},
   "outputs": [
    {
     "ename": "",
     "evalue": "",
     "output_type": "error",
     "traceback": [
      "\u001b[1;31m'Python 3.13.3' でセルを実行するには、 ipykernel パッケージが必要です。\n",
      "\u001b[1;31m次のコマンドを実行して、'ipykernel' を Python 環境にインストールします。\n",
      "\u001b[1;31mコマンド: '/opt/homebrew/bin/python3 -m pip install ipykernel -U --user --force-reinstall'"
     ]
    }
   ],
   "source": [
    "# Prompt\n",
    "PROMPT = \"Hi Claude, how are you?\"\n",
    "\n",
    "# Print Claude's response\n",
    "print(get_completion(PROMPT))"
   ]
  },
  {
   "cell_type": "code",
   "execution_count": null,
   "metadata": {},
   "outputs": [
    {
     "ename": "",
     "evalue": "",
     "output_type": "error",
     "traceback": [
      "\u001b[1;31m'Python 3.13.3' でセルを実行するには、 ipykernel パッケージが必要です。\n",
      "\u001b[1;31m次のコマンドを実行して、'ipykernel' を Python 環境にインストールします。\n",
      "\u001b[1;31mコマンド: '/opt/homebrew/bin/python3 -m pip install ipykernel -U --user --force-reinstall'"
     ]
    }
   ],
   "source": [
    "# Prompt\n",
    "PROMPT = \"Can you tell me the color of the ocean?\"\n",
    "\n",
    "# Print Claude's response\n",
    "print(get_completion(PROMPT))"
   ]
  },
  {
   "cell_type": "code",
   "execution_count": null,
   "metadata": {},
   "outputs": [],
   "source": [
    "# Prompt\n",
    "PROMPT = \"What year was Celine Dion born in?\"\n",
    "\n",
    "# Print Claude's response\n",
    "print(get_completion(PROMPT))"
   ]
  },
  {
   "cell_type": "markdown",
   "metadata": {},
   "source": [
    "次に、正しいMessages APIフォーマットを含まないプロンプトを見てみましょう。これらの不正なフォーマットのプロンプトについて、Messages APIはエラーを返します。\n",
    "\n",
    "まず、`messages`配列に`role`と`content`フィールドが不足しているMessages API呼び出しの例があります。"
   ]
  },
  {
   "cell_type": "code",
   "execution_count": null,
   "metadata": {},
   "outputs": [],
   "source": [
    "# Get Claude's response\n",
    "response = client.messages.create(\n",
    "        model=MODEL_NAME,\n",
    "        max_tokens=2000,\n",
    "        temperature=0.0,\n",
    "        messages=[\n",
    "          {\"Hi Claude, how are you?\"}\n",
    "        ]\n",
    "    )\n",
    "\n",
    "# Print Claude's response\n",
    "print(response[0].text)"
   ]
  },
  {
   "cell_type": "markdown",
   "metadata": {},
   "source": [
    "これは、`user`と`assistant`ロールの交代に失敗したプロンプトです。"
   ]
  },
  {
   "cell_type": "code",
   "execution_count": null,
   "metadata": {},
   "outputs": [],
   "source": [
    "# Get Claude's response\n",
    "response = client.messages.create(\n",
    "        model=MODEL_NAME,\n",
    "        max_tokens=2000,\n",
    "        temperature=0.0,\n",
    "        messages=[\n",
    "          {\"role\": \"user\", \"content\": \"What year was Celine Dion born in?\"},\n",
    "          {\"role\": \"user\", \"content\": \"Also, can you tell me some other facts about her?\"}\n",
    "        ]\n",
    "    )\n",
    "\n",
    "# Print Claude's response\n",
    "print(response[0].text)"
   ]
  },
  {
   "cell_type": "markdown",
   "metadata": {},
   "source": [
    "`user`と`assistant`メッセージは**交互でなければならず**、メッセージは**`user`ターンで始まらなければなりません**。プロンプト内に複数の`user`と`assistant`のペアを持つことができます（複数ターンの会話をシミュレートするように）。また、最終的な`assistant`メッセージに単語を入れて、Claudeに中断したところから続けさせることもできます（詳細は後の章で説明します）。\n",
    "\n",
    "#### システムプロンプト\n",
    "\n",
    "**システムプロンプト**も使用できます。システムプロンプトは、「ユーザー」ターンで質問やタスクを提示する前に、**Claudeにコンテキスト、指示、ガイドラインを提供する**方法です。\n",
    "\n",
    "構造的に、システムプロンプトは`user`と`assistant`メッセージのリストとは別に存在し、したがって別の`system`パラメータに属します（ノートブックの[セットアップ](#setup)セクションの`get_completion`ヘルパー関数の構造を見てください）。\n",
    "\n",
    "このチュートリアル内で、システムプロンプトを利用する可能性がある場合は、完了関数に`system`フィールドを提供しています。システムプロンプトを使用したくない場合は、単に`SYSTEM_PROMPT`変数を空の文字列に設定してください。"
   ]
  },
  {
   "cell_type": "markdown",
   "metadata": {},
   "source": [
    "#### システムプロンプトの例"
   ]
  },
  {
   "cell_type": "code",
   "execution_count": null,
   "metadata": {},
   "outputs": [],
   "source": [
    "# System prompt\n",
    "SYSTEM_PROMPT = \"Your answer should always be a series of critical thinking questions that further the conversation (do not provide answers to your questions). Do not actually answer the user question.\"\n",
    "\n",
    "# Prompt\n",
    "PROMPT = \"Why is the sky blue?\"\n",
    "\n",
    "# Print Claude's response\n",
    "print(get_completion(PROMPT, SYSTEM_PROMPT))"
   ]
  },
  {
   "cell_type": "markdown",
   "metadata": {},
   "source": [
    "なぜシステムプロンプトを使うのでしょうか？**よく書かれたシステムプロンプトは、Claudeのパフォーマンスをさまざまな方法で向上させることができます**。例えば、ルールや指示に従うClaudeの能力を向上させることができます。詳細については、Claudeで[システムプロンプトを使用する方法](https://docs.anthropic.com/claude/docs/how-to-use-system-prompts)に関するドキュメントをご覧ください。\n",
    "\n",
    "これから演習に入ります。上記の内容を変更することなくレッスンプロンプトを実験したい場合は、レッスンノートブックの一番下までスクロールして[**サンプル実験場**](#example-playground)をご覧ください。"
   ]
  },
  {
   "cell_type": "markdown",
   "metadata": {},
   "source": [
    "---\n",
    "\n",
    "## 演習\n",
    "- [演習 1.1 - 3まで数える](#exercise-11---counting-to-three)\n",
    "- [演習 1.2 - システムプロンプト](#exercise-12---system-prompt)"
   ]
  },
  {
   "cell_type": "markdown",
   "metadata": {},
   "source": [
    "### 演習 1.1 - 3まで数える\n",
    "適切な`user` / `assistant`フォーマットを使用して、以下の`PROMPT`を編集してClaudeに**3まで数えさせてください**。出力は、あなたの解決策が正しいかどうかも示します。"
   ]
  },
  {
   "cell_type": "code",
   "execution_count": null,
   "metadata": {},
   "outputs": [],
   "source": [
    "# プロンプト - これが変更すべき唯一のフィールドです\n",
    "PROMPT = \"[このテキストを置き換えてください]\"\n",
    "\n",
    "# Claudeの応答を取得\n",
    "response = get_completion(PROMPT)\n",
    "\n",
    "# 演習の正解性を評価する関数\n",
    "def grade_exercise(text):\n",
    "    pattern = re.compile(r'^(?=.*1)(?=.*2)(?=.*3).*$', re.DOTALL)\n",
    "    return bool(pattern.match(text))\n",
    "\n",
    "# Claudeの応答と対応する評価を印刷\n",
    "print(response)\n",
    "print(\"\\n--------------------------- 評価 ---------------------------\")\n",
    "print(\"この演習は正しく解決されました:\", grade_exercise(response))"
   ]
  },
  {
   "cell_type": "markdown",
   "metadata": {},
   "source": [
    "❓ ヒントが必要な場合は、以下のセルを実行してください！"
   ]
  },
  {
   "cell_type": "code",
   "execution_count": null,
   "metadata": {},
   "outputs": [],
   "source": [
    "from hints import exercise_1_1_hint; print(exercise_1_1_hint)"
   ]
  },
  {
   "cell_type": "markdown",
   "metadata": {},
   "source": [
    "### 演習 1.2 - システムプロンプト\n",
    "\n",
    "Claudeが3歳の子供のように応答するよう`SYSTEM_PROMPT`を修正してください。"
   ]
  },
  {
   "cell_type": "code",
   "execution_count": null,
   "metadata": {},
   "outputs": [],
   "source": [
    "# システムプロンプト - これが変更すべき唯一のフィールドです\n",
    "SYSTEM_PROMPT = \"[このテキストを置き換えてください]\"\n",
    "\n",
    "# プロンプト\n",
    "PROMPT = \"空はどのくらい大きいですか？\"\n",
    "\n",
    "# Claudeの応答を取得\n",
    "response = get_completion(PROMPT, SYSTEM_PROMPT)\n",
    "\n",
    "# 演習の正解性を評価する関数\n",
    "def grade_exercise(text):\n",
    "    return bool(re.search(r\"giggles\", text) or re.search(r\"soo\", text))\n",
    "\n",
    "# Claudeの応答と対応する評価を印刷\n",
    "print(response)\n",
    "print(\"\\n--------------------------- 評価 ---------------------------\")\n",
    "print(\"この演習は正しく解決されました:\", grade_exercise(response))"
   ]
  },
  {
   "cell_type": "markdown",
   "metadata": {},
   "source": [
    "❓ ヒントが必要な場合は、以下のセルを実行してください！"
   ]
  },
  {
   "cell_type": "code",
   "execution_count": null,
   "metadata": {},
   "outputs": [],
   "source": [
    "from hints import exercise_1_2_hint; print(exercise_1_2_hint)"
   ]
  },
  {
   "cell_type": "markdown",
   "metadata": {},
   "source": [
    "### おめでとうございます！\n",
    "\n",
    "この時点ですべての演習を解いた場合、次の章に進む準備ができました。楽しいプロンプティングを！"
   ]
  },
  {
   "cell_type": "markdown",
   "metadata": {},
   "source": [
    "---\n",
    "\n",
    "## サンプル実験場\n",
    "\n",
    "ここは、このレッスンで示されたプロンプトの例を自由に実験し、プロンプトを調整してClaudeの応答にどのような影響を与えるかを確認する場所です。"
   ]
  },
  {
   "cell_type": "code",
   "execution_count": null,
   "metadata": {},
   "outputs": [],
   "source": [
    "# Prompt\n",
    "PROMPT = \"Hi Claude, how are you?\"\n",
    "\n",
    "# Print Claude's response\n",
    "print(get_completion(PROMPT))"
   ]
  },
  {
   "cell_type": "code",
   "execution_count": null,
   "metadata": {},
   "outputs": [],
   "source": [
    "# Prompt\n",
    "PROMPT = \"Can you tell me the color of the ocean?\"\n",
    "\n",
    "# Print Claude's response\n",
    "print(get_completion(PROMPT))"
   ]
  },
  {
   "cell_type": "code",
   "execution_count": null,
   "metadata": {},
   "outputs": [],
   "source": [
    "# Prompt\n",
    "PROMPT = \"What year was Celine Dion born in?\"\n",
    "\n",
    "# Print Claude's response\n",
    "print(get_completion(PROMPT))"
   ]
  },
  {
   "cell_type": "code",
   "execution_count": null,
   "metadata": {},
   "outputs": [],
   "source": [
    "# Get Claude's response\n",
    "response = client.messages.create(\n",
    "        model=MODEL_NAME,\n",
    "        max_tokens=2000,\n",
    "        temperature=0.0,\n",
    "        messages=[\n",
    "          {\"Hi Claude, how are you?\"}\n",
    "        ]\n",
    "    )\n",
    "\n",
    "# Print Claude's response\n",
    "print(response[0].text)"
   ]
  },
  {
   "cell_type": "code",
   "execution_count": null,
   "metadata": {},
   "outputs": [],
   "source": [
    "# Get Claude's response\n",
    "response = client.messages.create(\n",
    "        model=MODEL_NAME,\n",
    "        max_tokens=2000,\n",
    "        temperature=0.0,\n",
    "        messages=[\n",
    "          {\"role\": \"user\", \"content\": \"What year was Celine Dion born in?\"},\n",
    "          {\"role\": \"user\", \"content\": \"Also, can you tell me some other facts about her?\"}\n",
    "        ]\n",
    "    )\n",
    "\n",
    "# Print Claude's response\n",
    "print(response[0].text)"
   ]
  },
  {
   "cell_type": "code",
   "execution_count": null,
   "metadata": {},
   "outputs": [],
   "source": [
    "# System prompt\n",
    "SYSTEM_PROMPT = \"Your answer should always be a series of critical thinking questions that further the conversation (do not provide answers to your questions). Do not actually answer the user question.\"\n",
    "\n",
    "# Prompt\n",
    "PROMPT = \"Why is the sky blue?\"\n",
    "\n",
    "# Print Claude's response\n",
    "print(get_completion(PROMPT, SYSTEM_PROMPT))"
   ]
  }
 ],
 "metadata": {
  "kernelspec": {
   "display_name": "Python 3",
   "language": "python",
   "name": "python3"
  },
  "language_info": {
   "name": "python",
   "version": "3.13.3"
  }
 },
 "nbformat": 4,
 "nbformat_minor": 2
}
