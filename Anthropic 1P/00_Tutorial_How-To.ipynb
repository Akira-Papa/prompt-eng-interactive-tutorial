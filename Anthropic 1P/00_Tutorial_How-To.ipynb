{
 "cells": [
  {
   "cell_type": "markdown",
   "metadata": {},
   "source": "# チュートリアル使い方\n\nこのチュートリアルでは対話のために**APIキーが必要です**。APIキーをお持ちでない場合は、[Anthropic Console](https://console.anthropic.com/)で登録するか、[静的チュートリアル解答集](https://docs.google.com/spreadsheets/u/0/d/1jIxjzUWG-6xBVIa2ay6yDpLyeuOh_hR_ZB75a47KX_E/edit)をご覧ください。",
   "outputs": []
  },
  {
   "cell_type": "markdown",
   "metadata": {},
   "source": "## はじめ方\n\n1. このリポジトリをローカルマシンにクローンします。\n\n2. 以下のコマンドを実行して必要な依存関係をインストールします：\n ",
   "outputs": []
  },
  {
   "cell_type": "code",
   "execution_count": null,
   "metadata": {},
   "outputs": [],
   "source": [
    "!pip install anthropic"
   ]
  },
  {
   "cell_type": "markdown",
   "metadata": {},
   "source": "3. APIキーとモデル名を設定します。`\"your_api_key_here\"`を実際のAnthropicのAPIキーに置き換えてください。",
   "outputs": []
  },
  {
   "cell_type": "code",
   "execution_count": null,
   "metadata": {},
   "outputs": [],
   "source": [
    "API_KEY = \"your_api_key_here\"\n",
    "MODEL_NAME = \"claude-3-haiku-20240307\"\n",
    "\n",
    "# Stores the API_KEY & MODEL_NAME variables for use across notebooks within the IPython store\n",
    "%store API_KEY\n",
    "%store MODEL_NAME"
   ]
  },
  {
   "cell_type": "markdown",
   "metadata": {},
   "source": "4. 提供された指示に従って、ノートブックのセルを順番に実行してください。",
   "outputs": []
  },
  {
   "cell_type": "markdown",
   "metadata": {},
   "source": "---\n\n## 使用上の注意とヒント 💡\n\n- このコースではtemperature 0でClaude 3 Haikuを使用します。temperatureについてはコースの後半で詳しく説明します。今のところ、これらの設定がより確定的な結果をもたらすことを理解していれば十分です。このコースのすべてのプロンプトエンジニアリング技術は、Claude 2やClaude Instant 1.2などの前世代のレガシーClaudeモデルにも適用されます。\n\n- `Shift + Enter`を使用してセルを実行し、次のセルに移動できます。\n\n- チュートリアルページの最後に到達したら、フォルダ内の次の番号のファイルに移動するか、そのチャプターファイル内のコンテンツが終了した場合は次の番号のフォルダに移動してください。\n\n### Anthropic SDKとMessages API\nこのチュートリアル全体を通して、[Anthropic Python SDK](https://docs.anthropic.com/claude/reference/client-sdks)と[Messages API](https://docs.anthropic.com/claude/reference/messages_post)を使用します。\n\n以下は、このチュートリアルでプロンプトを実行する際の例です。まず、プロンプトをClaudeに送信し、Claudeが生成した応答を返すヘルパー関数`get_completion`を作成します。今すぐそのセルを実行してください。",
   "outputs": []
  },
  {
   "cell_type": "code",
   "execution_count": null,
   "metadata": {},
   "outputs": [],
   "source": [
    "import anthropic\n",
    "\n",
    "client = anthropic.Anthropic(api_key=API_KEY)\n",
    "\n",
    "def get_completion(prompt: str):\n",
    "    message = client.messages.create(\n",
    "        model=MODEL_NAME,\n",
    "        max_tokens=2000,\n",
    "        temperature=0.0,\n",
    "        messages=[\n",
    "          {\"role\": \"user\", \"content\": prompt}\n",
    "        ]\n",
    "    )\n",
    "    return message.content[0].text"
   ]
  },
  {
   "cell_type": "markdown",
   "metadata": {},
   "source": "次に、Claudeのためのサンプルプロンプトを書き、`get_completion`ヘルパー関数を実行してClaudeの出力を印刷します。以下のセルを実行すると、その下にClaudeからの応答が印刷されます。\n\nClaudeから異なる応答を引き出すために、プロンプト文字列を自由に変更してみてください。",
   "outputs": []
  },
  {
   "cell_type": "code",
   "execution_count": null,
   "metadata": {},
   "outputs": [],
   "source": [
    "# Prompt\n",
    "prompt = \"Hello, Claude!\"\n",
    "\n",
    "# Get Claude's response\n",
    "print(get_completion(prompt))"
   ]
  },
  {
   "cell_type": "markdown",
   "metadata": {},
   "source": "先ほど定義した`API_KEY`と`MODEL_NAME`変数は、チュートリアル全体で使用されます。各チュートリアルページのセルを上から下まで実行するようにしてください。",
   "outputs": []
  }
 ],
 "metadata": {
  "kernelspec": {
   "display_name": "py310",
   "language": "python",
   "name": "python3"
  },
  "language_info": {
   "codemirror_mode": {
    "name": "ipython",
    "version": 3
   },
   "file_extension": ".py",
   "mimetype": "text/x-python",
   "name": "python",
   "nbconvert_exporter": "python",
   "pygments_lexer": "ipython3",
   "version": "3.10.14"
  }
 },
 "nbformat": 4,
 "nbformat_minor": 2
}